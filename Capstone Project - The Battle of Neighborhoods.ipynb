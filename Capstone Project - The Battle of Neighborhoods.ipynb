{
    "cells": [
        {
            "cell_type": "markdown",
            "metadata": {},
            "source": "# The Battle of Neighborhoods\n\n\n## Find the best locatoion for cofee shop\n\n<br>"
        },
        {
            "cell_type": "markdown",
            "metadata": {
                "collapsed": true
            },
            "source": "## Introduction\n\nOur client want to open new cofee shop in Riyadh city and he is asking about the best location for his business.\nFor sure he can change anything after he open the cofee shop but not the location, so we have to help him choose the right location, which is the one with lowest number of cofee shops for less cometitions.\n\n<br>\n"
        },
        {
            "cell_type": "markdown",
            "metadata": {},
            "source": "## Business Challenge\n\n\nI will use Foursquare database to provide our client the best location by clustering the areas by its distance from the center fo the city and find the area with lowset number of cofee shops.\n<br>\n<br>\n"
        },
        {
            "cell_type": "markdown",
            "metadata": {},
            "source": "## Data requirements\n\nFor this assignment, I will be utilizing the Foursquare API to pull the following location data in Riyadh\n\n- Venue Name\n- Venue ID\n- Venue Location\n- Venue Category\n- venue distance\n<br>\n\nI will cluster the areas acording to distance from the center and number of venues category equal to **Cofee Shop**\n\n<br>"
        },
        {
            "cell_type": "code",
            "execution_count": 3,
            "metadata": {},
            "outputs": [
                {
                    "name": "stdout",
                    "output_type": "stream",
                    "text": "Libraries imported.\n"
                }
            ],
            "source": "import numpy as np # library to handle data in a vectorized manner\nimport pandas as pd # library for data analsysis\n\nimport json # library to handle JSON files\n\n#!conda install -c conda-forge geopy --yes \nfrom geopy.geocoders import Nominatim # convert an address into latitude and longitude values\n\nimport requests # library to handle requests\nfrom pandas.io.json import json_normalize # tranform JSON file into a pandas dataframe\n\n# Matplotlib and associated plotting modules\nimport matplotlib.cm as cm\nimport matplotlib.colors as colors\n\n# import k-means from clustering stage\nfrom sklearn.cluster import KMeans\n\n#!conda install -c conda-forge folium=0.5.0 --yes\n#import folium # map rendering library\n\nprint('Libraries imported.')"
        },
        {
            "cell_type": "markdown",
            "metadata": {},
            "source": " "
        },
        {
            "cell_type": "markdown",
            "metadata": {},
            "source": "### 1. Get Riyadh's latitude and longitude values"
        },
        {
            "cell_type": "markdown",
            "metadata": {},
            "source": "world cities coordinates already available on simplemaps.com website..\nI've uploaded the world cities coordinates file to github  "
        },
        {
            "cell_type": "code",
            "execution_count": 4,
            "metadata": {},
            "outputs": [
                {
                    "data": {
                        "text/html": "<div>\n<style scoped>\n    .dataframe tbody tr th:only-of-type {\n        vertical-align: middle;\n    }\n\n    .dataframe tbody tr th {\n        vertical-align: top;\n    }\n\n    .dataframe thead th {\n        text-align: right;\n    }\n</style>\n<table border=\"1\" class=\"dataframe\">\n  <thead>\n    <tr style=\"text-align: right;\">\n      <th></th>\n      <th>city</th>\n      <th>lat</th>\n      <th>lng</th>\n      <th>country</th>\n      <th>iso2</th>\n      <th>admin</th>\n      <th>capital</th>\n      <th>population</th>\n      <th>population_proper</th>\n    </tr>\n  </thead>\n  <tbody>\n    <tr>\n      <th>0</th>\n      <td>Riyadh</td>\n      <td>24.653837</td>\n      <td>46.715683</td>\n      <td>Saudi Arabia</td>\n      <td>SA</td>\n      <td>Ar Riy\u0101\u1e11</td>\n      <td>primary</td>\n      <td>4465000.0</td>\n      <td>4205961.0</td>\n    </tr>\n    <tr>\n      <th>1</th>\n      <td>Jeddah</td>\n      <td>21.542381</td>\n      <td>39.197969</td>\n      <td>Saudi Arabia</td>\n      <td>SA</td>\n      <td>Makkah al Mukarramah</td>\n      <td>NaN</td>\n      <td>3012000.0</td>\n      <td>2867446.0</td>\n    </tr>\n    <tr>\n      <th>2</th>\n      <td>Ad Damm\u0101m</td>\n      <td>26.434417</td>\n      <td>50.103263</td>\n      <td>Saudi Arabia</td>\n      <td>SA</td>\n      <td>Ash Sharq\u012byah</td>\n      <td>admin</td>\n      <td>2054710.0</td>\n      <td>768602.0</td>\n    </tr>\n    <tr>\n      <th>3</th>\n      <td>Medina</td>\n      <td>24.468611</td>\n      <td>39.614167</td>\n      <td>Saudi Arabia</td>\n      <td>SA</td>\n      <td>Al Mad\u012bnah al Munawwarah</td>\n      <td>admin</td>\n      <td>1010000.0</td>\n      <td>1010000.0</td>\n    </tr>\n    <tr>\n      <th>4</th>\n      <td>A\u0163 \u0162\u0101\u2019if</td>\n      <td>21.270278</td>\n      <td>40.415833</td>\n      <td>Saudi Arabia</td>\n      <td>SA</td>\n      <td>Makkah al Mukarramah</td>\n      <td>NaN</td>\n      <td>657282.0</td>\n      <td>530848.0</td>\n    </tr>\n  </tbody>\n</table>\n</div>",
                        "text/plain": "        city        lat        lng       country iso2  \\\n0     Riyadh  24.653837  46.715683  Saudi Arabia   SA   \n1     Jeddah  21.542381  39.197969  Saudi Arabia   SA   \n2  Ad Damm\u0101m  26.434417  50.103263  Saudi Arabia   SA   \n3     Medina  24.468611  39.614167  Saudi Arabia   SA   \n4   A\u0163 \u0162\u0101\u2019if  21.270278  40.415833  Saudi Arabia   SA   \n\n                      admin  capital  population  population_proper  \n0                  Ar Riy\u0101\u1e11  primary   4465000.0          4205961.0  \n1      Makkah al Mukarramah      NaN   3012000.0          2867446.0  \n2             Ash Sharq\u012byah    admin   2054710.0           768602.0  \n3  Al Mad\u012bnah al Munawwarah    admin   1010000.0          1010000.0  \n4      Makkah al Mukarramah      NaN    657282.0           530848.0  "
                    },
                    "execution_count": 4,
                    "metadata": {},
                    "output_type": "execute_result"
                }
            ],
            "source": "cities_df = pd.read_csv('https://raw.githubusercontent.com/erefaie/Coursera_Capstone/master/sa.csv')\n\ncities_df.head()"
        },
        {
            "cell_type": "markdown",
            "metadata": {},
            "source": "Find Riyadh latitude & longitude in the dataframe"
        },
        {
            "cell_type": "code",
            "execution_count": 5,
            "metadata": {},
            "outputs": [
                {
                    "name": "stdout",
                    "output_type": "stream",
                    "text": "24.653837\n46.715683\n"
                },
                {
                    "name": "stderr",
                    "output_type": "stream",
                    "text": "/opt/conda/envs/Python36/lib/python3.6/site-packages/ipykernel/__main__.py:2: FutureWarning: get_value is deprecated and will be removed in a future release. Please use .at[] or .iat[] accessors instead\n  from ipykernel import kernelapp as app\n/opt/conda/envs/Python36/lib/python3.6/site-packages/ipykernel/__main__.py:3: FutureWarning: get_value is deprecated and will be removed in a future release. Please use .at[] or .iat[] accessors instead\n  app.launch_new_instance()\n"
                }
            ],
            "source": "RY_cordinates = cities_df.loc[cities_df['city'] == 'Riyadh']\nRY_latitude = RY_cordinates.get_value(0, 'lat')\nRY_longitude = RY_cordinates.get_value(0, 'lng')\n\n\nprint(RY_latitude)\nprint(RY_longitude)"
        },
        {
            "cell_type": "markdown",
            "metadata": {},
            "source": "<br>\n<br>\n\n\n\nHere i am going to start utilizing the Foursquare API to explore the neighborhoods in Riyadh and segment them."
        },
        {
            "cell_type": "markdown",
            "metadata": {},
            "source": "### 2. Define Foursquare Credentials, Version, and build the needed URL"
        },
        {
            "cell_type": "code",
            "execution_count": 6,
            "metadata": {},
            "outputs": [],
            "source": "CLIENT_ID = '2LUYJPERSOIYVIPLYFOHOGV1ZPASRSOVIUGRQ53ABMNZ3KTU' # My Foursquare ID\nCLIENT_SECRET = 'TH4VCMJBMD1ZLN0BSO3OVSABF50Z31VNCNDBZLHBZOBR42QA' # My Foursquare Secret\nVERSION = '20180605' # Foursquare API version\n"
        },
        {
            "cell_type": "markdown",
            "metadata": {},
            "source": "First, I'll create the GET request URL. Name your URL **url**."
        },
        {
            "cell_type": "code",
            "execution_count": 7,
            "metadata": {},
            "outputs": [
                {
                    "name": "stdout",
                    "output_type": "stream",
                    "text": "https://api.foursquare.com/v2/venues/explore?&client_id=2LUYJPERSOIYVIPLYFOHOGV1ZPASRSOVIUGRQ53ABMNZ3KTU&client_secret=TH4VCMJBMD1ZLN0BSO3OVSABF50Z31VNCNDBZLHBZOBR42QA&v=20180605&ll=24.653837,46.715683&limit=100&radious=500\n"
                }
            ],
            "source": "url = 'https://api.foursquare.com/v2/venues/explore?&client_id={}&client_secret={}&v={}&ll={},{}&limit={}&radious={}'.format(\nCLIENT_ID,\nCLIENT_SECRET,\nVERSION,\nRY_latitude,\nRY_longitude,\n100,\n500)\n\nprint(url)"
        },
        {
            "cell_type": "markdown",
            "metadata": {},
            "source": "\n### 3. Send the GET request and examine the resutls\n"
        },
        {
            "cell_type": "code",
            "execution_count": 8,
            "metadata": {},
            "outputs": [],
            "source": "results = requests.get(url).json()"
        },
        {
            "cell_type": "markdown",
            "metadata": {},
            "source": "Now will clean the json and structure it into a pandas dataframe"
        },
        {
            "cell_type": "code",
            "execution_count": 9,
            "metadata": {},
            "outputs": [],
            "source": "# function that extracts the category of the venue\ndef get_category_type(row):\n    try:\n        categories_list = row['categories']\n    except:\n        categories_list = row['venue.categories']\n        \n    if len(categories_list) == 0:\n        return None\n    else:\n        return categories_list[0]['name']"
        },
        {
            "cell_type": "markdown",
            "metadata": {},
            "source": "Read the resulted information from json file dsinto pandas dataframe."
        },
        {
            "cell_type": "code",
            "execution_count": 10,
            "metadata": {},
            "outputs": [],
            "source": "venues = results['response']['groups'][0]['items']\n    \nnearby_venues = json_normalize(venues) # flatten JSON\n\n\n# filter columns\nfiltered_columns = ['venue.name', 'venue.categories', 'venue.location.lat', 'venue.location.lng', 'venue.location.distance']\nnearby_venues =nearby_venues.loc[:, filtered_columns]\n\n# filter the category for each row\nnearby_venues['venue.categories'] = nearby_venues.apply(get_category_type, axis=1)\n\n# clean columns\nnearby_venues.columns = [col.split(\".\")[-1] for col in nearby_venues.columns]\n\n\n"
        },
        {
            "cell_type": "markdown",
            "metadata": {},
            "source": "Will use head function to have a look to the data"
        },
        {
            "cell_type": "code",
            "execution_count": 11,
            "metadata": {},
            "outputs": [
                {
                    "data": {
                        "text/html": "<div>\n<style scoped>\n    .dataframe tbody tr th:only-of-type {\n        vertical-align: middle;\n    }\n\n    .dataframe tbody tr th {\n        vertical-align: top;\n    }\n\n    .dataframe thead th {\n        text-align: right;\n    }\n</style>\n<table border=\"1\" class=\"dataframe\">\n  <thead>\n    <tr style=\"text-align: right;\">\n      <th></th>\n      <th>name</th>\n      <th>categories</th>\n      <th>lat</th>\n      <th>lng</th>\n      <th>distance</th>\n    </tr>\n  </thead>\n  <tbody>\n    <tr>\n      <th>0</th>\n      <td>dr.CAFE COFFEE</td>\n      <td>Coffee Shop</td>\n      <td>24.656452</td>\n      <td>46.715608</td>\n      <td>291</td>\n    </tr>\n    <tr>\n      <th>1</th>\n      <td>Thiqah CITC (\u0645\u0631\u0643\u0632 \u0627\u0644\u0645\u0624\u062a\u0645\u0631\u0627\u062a \u0648\u062a\u0642\u0646\u064a\u0629 \u0627\u0644\u0645\u0639\u0644\u0648\u0645\u0627\u062a -...</td>\n      <td>IT Services</td>\n      <td>24.656250</td>\n      <td>46.715990</td>\n      <td>270</td>\n    </tr>\n    <tr>\n      <th>2</th>\n      <td>Black harvest</td>\n      <td>Coffee Shop</td>\n      <td>24.656657</td>\n      <td>46.712936</td>\n      <td>419</td>\n    </tr>\n    <tr>\n      <th>3</th>\n      <td>dr.CAFE COFFEE | \u062f. \u0643\u064a\u0641</td>\n      <td>Coffee Shop</td>\n      <td>24.649550</td>\n      <td>46.715107</td>\n      <td>480</td>\n    </tr>\n    <tr>\n      <th>4</th>\n      <td>Starbucks</td>\n      <td>Coffee Shop</td>\n      <td>24.656467</td>\n      <td>46.713449</td>\n      <td>369</td>\n    </tr>\n  </tbody>\n</table>\n</div>",
                        "text/plain": "                                                name   categories        lat  \\\n0                                     dr.CAFE COFFEE  Coffee Shop  24.656452   \n1  Thiqah CITC (\u0645\u0631\u0643\u0632 \u0627\u0644\u0645\u0624\u062a\u0645\u0631\u0627\u062a \u0648\u062a\u0642\u0646\u064a\u0629 \u0627\u0644\u0645\u0639\u0644\u0648\u0645\u0627\u062a -...  IT Services  24.656250   \n2                                      Black harvest  Coffee Shop  24.656657   \n3                            dr.CAFE COFFEE | \u062f. \u0643\u064a\u0641  Coffee Shop  24.649550   \n4                                          Starbucks  Coffee Shop  24.656467   \n\n         lng  distance  \n0  46.715608       291  \n1  46.715990       270  \n2  46.712936       419  \n3  46.715107       480  \n4  46.713449       369  "
                    },
                    "execution_count": 11,
                    "metadata": {},
                    "output_type": "execute_result"
                }
            ],
            "source": "nearby_venues.head()\n"
        },
        {
            "cell_type": "markdown",
            "metadata": {},
            "source": "<br> <br>\n\n## Exploratory Data Analysis"
        },
        {
            "cell_type": "code",
            "execution_count": 12,
            "metadata": {},
            "outputs": [
                {
                    "data": {
                        "text/plain": "(100, 5)"
                    },
                    "execution_count": 12,
                    "metadata": {},
                    "output_type": "execute_result"
                }
            ],
            "source": "nearby_venues.shape"
        },
        {
            "cell_type": "markdown",
            "metadata": {},
            "source": "<font size=\"5\">Venues dataset comprise of 100 observations and 5 characteristics</font>"
        },
        {
            "cell_type": "code",
            "execution_count": 13,
            "metadata": {},
            "outputs": [
                {
                    "name": "stdout",
                    "output_type": "stream",
                    "text": "<class 'pandas.core.frame.DataFrame'>\nRangeIndex: 100 entries, 0 to 99\nData columns (total 5 columns):\nname          100 non-null object\ncategories    100 non-null object\nlat           100 non-null float64\nlng           100 non-null float64\ndistance      100 non-null int64\ndtypes: float64(2), int64(1), object(2)\nmemory usage: 4.0+ KB\n"
                }
            ],
            "source": "nearby_venues.info()"
        },
        {
            "cell_type": "code",
            "execution_count": null,
            "metadata": {},
            "outputs": [],
            "source": ""
        }
    ],
    "metadata": {
        "kernelspec": {
            "display_name": "Python 3.6",
            "language": "python",
            "name": "python3"
        },
        "language_info": {
            "codemirror_mode": {
                "name": "ipython",
                "version": 3
            },
            "file_extension": ".py",
            "mimetype": "text/x-python",
            "name": "python",
            "nbconvert_exporter": "python",
            "pygments_lexer": "ipython3",
            "version": "3.6.9"
        }
    },
    "nbformat": 4,
    "nbformat_minor": 1
}